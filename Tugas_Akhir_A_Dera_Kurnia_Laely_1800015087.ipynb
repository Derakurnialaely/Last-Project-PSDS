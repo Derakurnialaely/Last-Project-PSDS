{
  "nbformat": 4,
  "nbformat_minor": 0,
  "metadata": {
    "colab": {
      "name": "Tugas Akhir A - Dera Kurnia Laely - 1800015087.ipynb",
      "provenance": [],
      "collapsed_sections": [],
      "toc_visible": true,
      "include_colab_link": true
    },
    "kernelspec": {
      "display_name": "Python 3",
      "name": "python3"
    }
  },
  "cells": [
    {
      "cell_type": "markdown",
      "metadata": {
        "id": "view-in-github",
        "colab_type": "text"
      },
      "source": [
        "<a href=\"https://colab.research.google.com/github/Derakurnialaely/Last-Project-PSDS/blob/main/Tugas_Akhir_A_Dera_Kurnia_Laely_1800015087.ipynb\" target=\"_parent\"><img src=\"https://colab.research.google.com/assets/colab-badge.svg\" alt=\"Open In Colab\"/></a>"
      ]
    },
    {
      "cell_type": "markdown",
      "metadata": {
        "id": "oDHEL6DqpPVJ"
      },
      "source": [
        "#**Sample Supermarket Dataset**"
      ]
    },
    {
      "cell_type": "markdown",
      "metadata": {
        "id": "DgO3iYs1pTUx"
      },
      "source": [
        "Sample Superstore Dataset ini merupakan contoh kumpulan data supermarket, semacam simulasi dimana kita melakukan analisis data ekstensif untuk memberikan wawasan tentang bagaimana perusahaan dapat meningkatkan keuntungannya juga untuk mengetahui berbagai informasi yang *consumer* butuhkan diberbagai kota disuatu negara seperti *Category*, *Quantity* dan *Sub-Category*. Contoh kumpulan data supermarket ini mengambil data dari negara Amerika serikat."
      ]
    },
    {
      "cell_type": "markdown",
      "metadata": {
        "id": "7ltsR5GipWFY"
      },
      "source": [
        "## Pertanyaan Analisis"
      ]
    },
    {
      "cell_type": "markdown",
      "metadata": {
        "id": "3d5TnPPTkbY8"
      },
      "source": [
        "1.\tKategori apa saja yang diminati dikota Los Angeles dan jumlah total keuntungan disetiap kategorinya?\r\n",
        "2.\tTotal keuntungan yang didapat dari kategori yang diminati dibeberapa kota yaitu Los Angeles, Henderson, Seattle, dan Madison.\r\n"
      ]
    },
    {
      "cell_type": "markdown",
      "metadata": {
        "id": "Kph01135pYvy"
      },
      "source": [
        "## Data Preparation"
      ]
    },
    {
      "cell_type": "code",
      "metadata": {
        "id": "Gms02If3pAw8",
        "colab": {
          "base_uri": "https://localhost:8080/",
          "height": 708
        },
        "outputId": "ef0dfa5c-6790-43bb-94ce-7fdcd1a3dd37"
      },
      "source": [
        "import pandas as pd\r\n",
        "import numpy as np\r\n",
        "import matplotlib.pyplot as plt\r\n",
        "\r\n",
        "superstore_df = pd.read_csv(\"SampleSuperstore.csv\")\r\n",
        "print(superstore_df.keys())\r\n",
        "superstore_df"
      ],
      "execution_count": 1,
      "outputs": [
        {
          "output_type": "stream",
          "text": [
            "Index(['Ship Mode', 'Segment', 'Country', 'City', 'State', 'Postal Code',\n",
            "       'Region', 'Category', 'Sub-Category', 'Sales', 'Quantity', 'Discount',\n",
            "       'Profit'],\n",
            "      dtype='object')\n"
          ],
          "name": "stdout"
        },
        {
          "output_type": "execute_result",
          "data": {
            "text/html": [
              "<div>\n",
              "<style scoped>\n",
              "    .dataframe tbody tr th:only-of-type {\n",
              "        vertical-align: middle;\n",
              "    }\n",
              "\n",
              "    .dataframe tbody tr th {\n",
              "        vertical-align: top;\n",
              "    }\n",
              "\n",
              "    .dataframe thead th {\n",
              "        text-align: right;\n",
              "    }\n",
              "</style>\n",
              "<table border=\"1\" class=\"dataframe\">\n",
              "  <thead>\n",
              "    <tr style=\"text-align: right;\">\n",
              "      <th></th>\n",
              "      <th>Ship Mode</th>\n",
              "      <th>Segment</th>\n",
              "      <th>Country</th>\n",
              "      <th>City</th>\n",
              "      <th>State</th>\n",
              "      <th>Postal Code</th>\n",
              "      <th>Region</th>\n",
              "      <th>Category</th>\n",
              "      <th>Sub-Category</th>\n",
              "      <th>Sales</th>\n",
              "      <th>Quantity</th>\n",
              "      <th>Discount</th>\n",
              "      <th>Profit</th>\n",
              "    </tr>\n",
              "  </thead>\n",
              "  <tbody>\n",
              "    <tr>\n",
              "      <th>0</th>\n",
              "      <td>Second Class</td>\n",
              "      <td>Consumer</td>\n",
              "      <td>United States</td>\n",
              "      <td>Henderson</td>\n",
              "      <td>Kentucky</td>\n",
              "      <td>42420</td>\n",
              "      <td>South</td>\n",
              "      <td>Furniture</td>\n",
              "      <td>Bookcases</td>\n",
              "      <td>261.9600</td>\n",
              "      <td>2</td>\n",
              "      <td>0.00</td>\n",
              "      <td>41.9136</td>\n",
              "    </tr>\n",
              "    <tr>\n",
              "      <th>1</th>\n",
              "      <td>Second Class</td>\n",
              "      <td>Consumer</td>\n",
              "      <td>United States</td>\n",
              "      <td>Henderson</td>\n",
              "      <td>Kentucky</td>\n",
              "      <td>42420</td>\n",
              "      <td>South</td>\n",
              "      <td>Furniture</td>\n",
              "      <td>Chairs</td>\n",
              "      <td>731.9400</td>\n",
              "      <td>3</td>\n",
              "      <td>0.00</td>\n",
              "      <td>219.5820</td>\n",
              "    </tr>\n",
              "    <tr>\n",
              "      <th>2</th>\n",
              "      <td>Second Class</td>\n",
              "      <td>Corporate</td>\n",
              "      <td>United States</td>\n",
              "      <td>Los Angeles</td>\n",
              "      <td>California</td>\n",
              "      <td>90036</td>\n",
              "      <td>West</td>\n",
              "      <td>Office Supplies</td>\n",
              "      <td>Labels</td>\n",
              "      <td>14.6200</td>\n",
              "      <td>2</td>\n",
              "      <td>0.00</td>\n",
              "      <td>6.8714</td>\n",
              "    </tr>\n",
              "    <tr>\n",
              "      <th>3</th>\n",
              "      <td>Standard Class</td>\n",
              "      <td>Consumer</td>\n",
              "      <td>United States</td>\n",
              "      <td>Fort Lauderdale</td>\n",
              "      <td>Florida</td>\n",
              "      <td>33311</td>\n",
              "      <td>South</td>\n",
              "      <td>Furniture</td>\n",
              "      <td>Tables</td>\n",
              "      <td>957.5775</td>\n",
              "      <td>5</td>\n",
              "      <td>0.45</td>\n",
              "      <td>-383.0310</td>\n",
              "    </tr>\n",
              "    <tr>\n",
              "      <th>4</th>\n",
              "      <td>Standard Class</td>\n",
              "      <td>Consumer</td>\n",
              "      <td>United States</td>\n",
              "      <td>Fort Lauderdale</td>\n",
              "      <td>Florida</td>\n",
              "      <td>33311</td>\n",
              "      <td>South</td>\n",
              "      <td>Office Supplies</td>\n",
              "      <td>Storage</td>\n",
              "      <td>22.3680</td>\n",
              "      <td>2</td>\n",
              "      <td>0.20</td>\n",
              "      <td>2.5164</td>\n",
              "    </tr>\n",
              "    <tr>\n",
              "      <th>...</th>\n",
              "      <td>...</td>\n",
              "      <td>...</td>\n",
              "      <td>...</td>\n",
              "      <td>...</td>\n",
              "      <td>...</td>\n",
              "      <td>...</td>\n",
              "      <td>...</td>\n",
              "      <td>...</td>\n",
              "      <td>...</td>\n",
              "      <td>...</td>\n",
              "      <td>...</td>\n",
              "      <td>...</td>\n",
              "      <td>...</td>\n",
              "    </tr>\n",
              "    <tr>\n",
              "      <th>9989</th>\n",
              "      <td>Second Class</td>\n",
              "      <td>Consumer</td>\n",
              "      <td>United States</td>\n",
              "      <td>Miami</td>\n",
              "      <td>Florida</td>\n",
              "      <td>33180</td>\n",
              "      <td>South</td>\n",
              "      <td>Furniture</td>\n",
              "      <td>Furnishings</td>\n",
              "      <td>25.2480</td>\n",
              "      <td>3</td>\n",
              "      <td>0.20</td>\n",
              "      <td>4.1028</td>\n",
              "    </tr>\n",
              "    <tr>\n",
              "      <th>9990</th>\n",
              "      <td>Standard Class</td>\n",
              "      <td>Consumer</td>\n",
              "      <td>United States</td>\n",
              "      <td>Costa Mesa</td>\n",
              "      <td>California</td>\n",
              "      <td>92627</td>\n",
              "      <td>West</td>\n",
              "      <td>Furniture</td>\n",
              "      <td>Furnishings</td>\n",
              "      <td>91.9600</td>\n",
              "      <td>2</td>\n",
              "      <td>0.00</td>\n",
              "      <td>15.6332</td>\n",
              "    </tr>\n",
              "    <tr>\n",
              "      <th>9991</th>\n",
              "      <td>Standard Class</td>\n",
              "      <td>Consumer</td>\n",
              "      <td>United States</td>\n",
              "      <td>Costa Mesa</td>\n",
              "      <td>California</td>\n",
              "      <td>92627</td>\n",
              "      <td>West</td>\n",
              "      <td>Technology</td>\n",
              "      <td>Phones</td>\n",
              "      <td>258.5760</td>\n",
              "      <td>2</td>\n",
              "      <td>0.20</td>\n",
              "      <td>19.3932</td>\n",
              "    </tr>\n",
              "    <tr>\n",
              "      <th>9992</th>\n",
              "      <td>Standard Class</td>\n",
              "      <td>Consumer</td>\n",
              "      <td>United States</td>\n",
              "      <td>Costa Mesa</td>\n",
              "      <td>California</td>\n",
              "      <td>92627</td>\n",
              "      <td>West</td>\n",
              "      <td>Office Supplies</td>\n",
              "      <td>Paper</td>\n",
              "      <td>29.6000</td>\n",
              "      <td>4</td>\n",
              "      <td>0.00</td>\n",
              "      <td>13.3200</td>\n",
              "    </tr>\n",
              "    <tr>\n",
              "      <th>9993</th>\n",
              "      <td>Second Class</td>\n",
              "      <td>Consumer</td>\n",
              "      <td>United States</td>\n",
              "      <td>Westminster</td>\n",
              "      <td>California</td>\n",
              "      <td>92683</td>\n",
              "      <td>West</td>\n",
              "      <td>Office Supplies</td>\n",
              "      <td>Appliances</td>\n",
              "      <td>243.1600</td>\n",
              "      <td>2</td>\n",
              "      <td>0.00</td>\n",
              "      <td>72.9480</td>\n",
              "    </tr>\n",
              "  </tbody>\n",
              "</table>\n",
              "<p>9994 rows × 13 columns</p>\n",
              "</div>"
            ],
            "text/plain": [
              "           Ship Mode    Segment        Country  ... Quantity Discount    Profit\n",
              "0       Second Class   Consumer  United States  ...        2     0.00   41.9136\n",
              "1       Second Class   Consumer  United States  ...        3     0.00  219.5820\n",
              "2       Second Class  Corporate  United States  ...        2     0.00    6.8714\n",
              "3     Standard Class   Consumer  United States  ...        5     0.45 -383.0310\n",
              "4     Standard Class   Consumer  United States  ...        2     0.20    2.5164\n",
              "...              ...        ...            ...  ...      ...      ...       ...\n",
              "9989    Second Class   Consumer  United States  ...        3     0.20    4.1028\n",
              "9990  Standard Class   Consumer  United States  ...        2     0.00   15.6332\n",
              "9991  Standard Class   Consumer  United States  ...        2     0.20   19.3932\n",
              "9992  Standard Class   Consumer  United States  ...        4     0.00   13.3200\n",
              "9993    Second Class   Consumer  United States  ...        2     0.00   72.9480\n",
              "\n",
              "[9994 rows x 13 columns]"
            ]
          },
          "metadata": {
            "tags": []
          },
          "execution_count": 1
        }
      ]
    },
    {
      "cell_type": "code",
      "metadata": {
        "id": "SwvppARpr4BJ",
        "colab": {
          "base_uri": "https://localhost:8080/",
          "height": 424
        },
        "outputId": "0e5e06ae-9f3f-4242-be8d-e8ff7078d77d"
      },
      "source": [
        "sample_superstore_df = pd.DataFrame(superstore_df[['City','Category','Sub-Category', 'Sales', 'Quantity', 'Profit']])\r\n",
        "sample_superstore_df"
      ],
      "execution_count": 2,
      "outputs": [
        {
          "output_type": "execute_result",
          "data": {
            "text/html": [
              "<div>\n",
              "<style scoped>\n",
              "    .dataframe tbody tr th:only-of-type {\n",
              "        vertical-align: middle;\n",
              "    }\n",
              "\n",
              "    .dataframe tbody tr th {\n",
              "        vertical-align: top;\n",
              "    }\n",
              "\n",
              "    .dataframe thead th {\n",
              "        text-align: right;\n",
              "    }\n",
              "</style>\n",
              "<table border=\"1\" class=\"dataframe\">\n",
              "  <thead>\n",
              "    <tr style=\"text-align: right;\">\n",
              "      <th></th>\n",
              "      <th>City</th>\n",
              "      <th>Category</th>\n",
              "      <th>Sub-Category</th>\n",
              "      <th>Sales</th>\n",
              "      <th>Quantity</th>\n",
              "      <th>Profit</th>\n",
              "    </tr>\n",
              "  </thead>\n",
              "  <tbody>\n",
              "    <tr>\n",
              "      <th>0</th>\n",
              "      <td>Henderson</td>\n",
              "      <td>Furniture</td>\n",
              "      <td>Bookcases</td>\n",
              "      <td>261.9600</td>\n",
              "      <td>2</td>\n",
              "      <td>41.9136</td>\n",
              "    </tr>\n",
              "    <tr>\n",
              "      <th>1</th>\n",
              "      <td>Henderson</td>\n",
              "      <td>Furniture</td>\n",
              "      <td>Chairs</td>\n",
              "      <td>731.9400</td>\n",
              "      <td>3</td>\n",
              "      <td>219.5820</td>\n",
              "    </tr>\n",
              "    <tr>\n",
              "      <th>2</th>\n",
              "      <td>Los Angeles</td>\n",
              "      <td>Office Supplies</td>\n",
              "      <td>Labels</td>\n",
              "      <td>14.6200</td>\n",
              "      <td>2</td>\n",
              "      <td>6.8714</td>\n",
              "    </tr>\n",
              "    <tr>\n",
              "      <th>3</th>\n",
              "      <td>Fort Lauderdale</td>\n",
              "      <td>Furniture</td>\n",
              "      <td>Tables</td>\n",
              "      <td>957.5775</td>\n",
              "      <td>5</td>\n",
              "      <td>-383.0310</td>\n",
              "    </tr>\n",
              "    <tr>\n",
              "      <th>4</th>\n",
              "      <td>Fort Lauderdale</td>\n",
              "      <td>Office Supplies</td>\n",
              "      <td>Storage</td>\n",
              "      <td>22.3680</td>\n",
              "      <td>2</td>\n",
              "      <td>2.5164</td>\n",
              "    </tr>\n",
              "    <tr>\n",
              "      <th>...</th>\n",
              "      <td>...</td>\n",
              "      <td>...</td>\n",
              "      <td>...</td>\n",
              "      <td>...</td>\n",
              "      <td>...</td>\n",
              "      <td>...</td>\n",
              "    </tr>\n",
              "    <tr>\n",
              "      <th>9989</th>\n",
              "      <td>Miami</td>\n",
              "      <td>Furniture</td>\n",
              "      <td>Furnishings</td>\n",
              "      <td>25.2480</td>\n",
              "      <td>3</td>\n",
              "      <td>4.1028</td>\n",
              "    </tr>\n",
              "    <tr>\n",
              "      <th>9990</th>\n",
              "      <td>Costa Mesa</td>\n",
              "      <td>Furniture</td>\n",
              "      <td>Furnishings</td>\n",
              "      <td>91.9600</td>\n",
              "      <td>2</td>\n",
              "      <td>15.6332</td>\n",
              "    </tr>\n",
              "    <tr>\n",
              "      <th>9991</th>\n",
              "      <td>Costa Mesa</td>\n",
              "      <td>Technology</td>\n",
              "      <td>Phones</td>\n",
              "      <td>258.5760</td>\n",
              "      <td>2</td>\n",
              "      <td>19.3932</td>\n",
              "    </tr>\n",
              "    <tr>\n",
              "      <th>9992</th>\n",
              "      <td>Costa Mesa</td>\n",
              "      <td>Office Supplies</td>\n",
              "      <td>Paper</td>\n",
              "      <td>29.6000</td>\n",
              "      <td>4</td>\n",
              "      <td>13.3200</td>\n",
              "    </tr>\n",
              "    <tr>\n",
              "      <th>9993</th>\n",
              "      <td>Westminster</td>\n",
              "      <td>Office Supplies</td>\n",
              "      <td>Appliances</td>\n",
              "      <td>243.1600</td>\n",
              "      <td>2</td>\n",
              "      <td>72.9480</td>\n",
              "    </tr>\n",
              "  </tbody>\n",
              "</table>\n",
              "<p>9994 rows × 6 columns</p>\n",
              "</div>"
            ],
            "text/plain": [
              "                 City         Category  ... Quantity    Profit\n",
              "0           Henderson        Furniture  ...        2   41.9136\n",
              "1           Henderson        Furniture  ...        3  219.5820\n",
              "2         Los Angeles  Office Supplies  ...        2    6.8714\n",
              "3     Fort Lauderdale        Furniture  ...        5 -383.0310\n",
              "4     Fort Lauderdale  Office Supplies  ...        2    2.5164\n",
              "...               ...              ...  ...      ...       ...\n",
              "9989            Miami        Furniture  ...        3    4.1028\n",
              "9990       Costa Mesa        Furniture  ...        2   15.6332\n",
              "9991       Costa Mesa       Technology  ...        2   19.3932\n",
              "9992       Costa Mesa  Office Supplies  ...        4   13.3200\n",
              "9993      Westminster  Office Supplies  ...        2   72.9480\n",
              "\n",
              "[9994 rows x 6 columns]"
            ]
          },
          "metadata": {
            "tags": []
          },
          "execution_count": 2
        }
      ]
    },
    {
      "cell_type": "code",
      "metadata": {
        "id": "U-bygggGcqJb",
        "colab": {
          "base_uri": "https://localhost:8080/",
          "height": 424
        },
        "outputId": "f952b152-9d9c-49d8-8e09-7f4530aed74e"
      },
      "source": [
        "#Kategori yang diminati di kota Los Angeles\r\n",
        "\r\n",
        "dfLA=sample_superstore_df[sample_superstore_df['City']=='Los Angeles']\r\n",
        "dfLA"
      ],
      "execution_count": 3,
      "outputs": [
        {
          "output_type": "execute_result",
          "data": {
            "text/html": [
              "<div>\n",
              "<style scoped>\n",
              "    .dataframe tbody tr th:only-of-type {\n",
              "        vertical-align: middle;\n",
              "    }\n",
              "\n",
              "    .dataframe tbody tr th {\n",
              "        vertical-align: top;\n",
              "    }\n",
              "\n",
              "    .dataframe thead th {\n",
              "        text-align: right;\n",
              "    }\n",
              "</style>\n",
              "<table border=\"1\" class=\"dataframe\">\n",
              "  <thead>\n",
              "    <tr style=\"text-align: right;\">\n",
              "      <th></th>\n",
              "      <th>City</th>\n",
              "      <th>Category</th>\n",
              "      <th>Sub-Category</th>\n",
              "      <th>Sales</th>\n",
              "      <th>Quantity</th>\n",
              "      <th>Profit</th>\n",
              "    </tr>\n",
              "  </thead>\n",
              "  <tbody>\n",
              "    <tr>\n",
              "      <th>2</th>\n",
              "      <td>Los Angeles</td>\n",
              "      <td>Office Supplies</td>\n",
              "      <td>Labels</td>\n",
              "      <td>14.620</td>\n",
              "      <td>2</td>\n",
              "      <td>6.8714</td>\n",
              "    </tr>\n",
              "    <tr>\n",
              "      <th>5</th>\n",
              "      <td>Los Angeles</td>\n",
              "      <td>Furniture</td>\n",
              "      <td>Furnishings</td>\n",
              "      <td>48.860</td>\n",
              "      <td>7</td>\n",
              "      <td>14.1694</td>\n",
              "    </tr>\n",
              "    <tr>\n",
              "      <th>6</th>\n",
              "      <td>Los Angeles</td>\n",
              "      <td>Office Supplies</td>\n",
              "      <td>Art</td>\n",
              "      <td>7.280</td>\n",
              "      <td>4</td>\n",
              "      <td>1.9656</td>\n",
              "    </tr>\n",
              "    <tr>\n",
              "      <th>7</th>\n",
              "      <td>Los Angeles</td>\n",
              "      <td>Technology</td>\n",
              "      <td>Phones</td>\n",
              "      <td>907.152</td>\n",
              "      <td>6</td>\n",
              "      <td>90.7152</td>\n",
              "    </tr>\n",
              "    <tr>\n",
              "      <th>8</th>\n",
              "      <td>Los Angeles</td>\n",
              "      <td>Office Supplies</td>\n",
              "      <td>Binders</td>\n",
              "      <td>18.504</td>\n",
              "      <td>3</td>\n",
              "      <td>5.7825</td>\n",
              "    </tr>\n",
              "    <tr>\n",
              "      <th>...</th>\n",
              "      <td>...</td>\n",
              "      <td>...</td>\n",
              "      <td>...</td>\n",
              "      <td>...</td>\n",
              "      <td>...</td>\n",
              "      <td>...</td>\n",
              "    </tr>\n",
              "    <tr>\n",
              "      <th>9976</th>\n",
              "      <td>Los Angeles</td>\n",
              "      <td>Technology</td>\n",
              "      <td>Phones</td>\n",
              "      <td>249.584</td>\n",
              "      <td>2</td>\n",
              "      <td>31.1980</td>\n",
              "    </tr>\n",
              "    <tr>\n",
              "      <th>9977</th>\n",
              "      <td>Los Angeles</td>\n",
              "      <td>Office Supplies</td>\n",
              "      <td>Fasteners</td>\n",
              "      <td>13.860</td>\n",
              "      <td>7</td>\n",
              "      <td>0.0000</td>\n",
              "    </tr>\n",
              "    <tr>\n",
              "      <th>9978</th>\n",
              "      <td>Los Angeles</td>\n",
              "      <td>Office Supplies</td>\n",
              "      <td>Binders</td>\n",
              "      <td>13.376</td>\n",
              "      <td>4</td>\n",
              "      <td>4.6816</td>\n",
              "    </tr>\n",
              "    <tr>\n",
              "      <th>9979</th>\n",
              "      <td>Los Angeles</td>\n",
              "      <td>Office Supplies</td>\n",
              "      <td>Binders</td>\n",
              "      <td>437.472</td>\n",
              "      <td>14</td>\n",
              "      <td>153.1152</td>\n",
              "    </tr>\n",
              "    <tr>\n",
              "      <th>9986</th>\n",
              "      <td>Los Angeles</td>\n",
              "      <td>Technology</td>\n",
              "      <td>Accessories</td>\n",
              "      <td>36.240</td>\n",
              "      <td>1</td>\n",
              "      <td>15.2208</td>\n",
              "    </tr>\n",
              "  </tbody>\n",
              "</table>\n",
              "<p>747 rows × 6 columns</p>\n",
              "</div>"
            ],
            "text/plain": [
              "             City         Category Sub-Category    Sales  Quantity    Profit\n",
              "2     Los Angeles  Office Supplies       Labels   14.620         2    6.8714\n",
              "5     Los Angeles        Furniture  Furnishings   48.860         7   14.1694\n",
              "6     Los Angeles  Office Supplies          Art    7.280         4    1.9656\n",
              "7     Los Angeles       Technology       Phones  907.152         6   90.7152\n",
              "8     Los Angeles  Office Supplies      Binders   18.504         3    5.7825\n",
              "...           ...              ...          ...      ...       ...       ...\n",
              "9976  Los Angeles       Technology       Phones  249.584         2   31.1980\n",
              "9977  Los Angeles  Office Supplies    Fasteners   13.860         7    0.0000\n",
              "9978  Los Angeles  Office Supplies      Binders   13.376         4    4.6816\n",
              "9979  Los Angeles  Office Supplies      Binders  437.472        14  153.1152\n",
              "9986  Los Angeles       Technology  Accessories   36.240         1   15.2208\n",
              "\n",
              "[747 rows x 6 columns]"
            ]
          },
          "metadata": {
            "tags": []
          },
          "execution_count": 3
        }
      ]
    },
    {
      "cell_type": "code",
      "metadata": {
        "id": "6Xwj0l5Coi7W",
        "colab": {
          "base_uri": "https://localhost:8080/"
        },
        "outputId": "411a1296-7234-4f80-fcf9-b4b252679100"
      },
      "source": [
        "dfLA['Category'].unique()"
      ],
      "execution_count": 4,
      "outputs": [
        {
          "output_type": "execute_result",
          "data": {
            "text/plain": [
              "array(['Office Supplies', 'Furniture', 'Technology'], dtype=object)"
            ]
          },
          "metadata": {
            "tags": []
          },
          "execution_count": 4
        }
      ]
    },
    {
      "cell_type": "code",
      "metadata": {
        "id": "_h11u2waB3wu",
        "colab": {
          "base_uri": "https://localhost:8080/"
        },
        "outputId": "68293b58-85bc-4868-e079-54694f80f8ae"
      },
      "source": [
        "# Jumlah Total keuntungan dari masing-masing kategori yang diminati di kota Los Angeles\r\n",
        "\r\n",
        "categoryLA_df = dfLA.groupby([\"Category\"])\r\n",
        "categoryLA_df['Profit'].sum()"
      ],
      "execution_count": 5,
      "outputs": [
        {
          "output_type": "execute_result",
          "data": {
            "text/plain": [
              "Category\n",
              "Furniture           3071.5913\n",
              "Office Supplies    13460.6287\n",
              "Technology         13908.5379\n",
              "Name: Profit, dtype: float64"
            ]
          },
          "metadata": {
            "tags": []
          },
          "execution_count": 5
        }
      ]
    },
    {
      "cell_type": "code",
      "metadata": {
        "id": "Z1lq-6hdOTrQ",
        "colab": {
          "base_uri": "https://localhost:8080/"
        },
        "outputId": "c278b95d-ac10-48df-9267-9f8069876c15"
      },
      "source": [
        "# Jumlah Total keuntungan dari kategori yang diminati di kota Los Angeles\r\n",
        "\r\n",
        "categoryLA_df['Profit'].sum().sum()"
      ],
      "execution_count": 6,
      "outputs": [
        {
          "output_type": "execute_result",
          "data": {
            "text/plain": [
              "30440.757900000008"
            ]
          },
          "metadata": {
            "tags": []
          },
          "execution_count": 6
        }
      ]
    },
    {
      "cell_type": "code",
      "metadata": {
        "id": "WRgOrvn7FMt1",
        "colab": {
          "base_uri": "https://localhost:8080/",
          "height": 143
        },
        "outputId": "6052b4e3-dcdb-4b2b-9ebf-418ea697e6d8"
      },
      "source": [
        "#Total keuntungan dari masing-masing kategori yang diminati di kota Los Angeles\r\n",
        "\r\n",
        "Keuntungan_LA = pd.DataFrame(data={'Category': ['Furniture', 'Office Supplies', 'Technology'], 'Profit': [3071.5913, 13460.6287, 13908.5379]})\r\n",
        "Keuntungan_LA"
      ],
      "execution_count": 7,
      "outputs": [
        {
          "output_type": "execute_result",
          "data": {
            "text/html": [
              "<div>\n",
              "<style scoped>\n",
              "    .dataframe tbody tr th:only-of-type {\n",
              "        vertical-align: middle;\n",
              "    }\n",
              "\n",
              "    .dataframe tbody tr th {\n",
              "        vertical-align: top;\n",
              "    }\n",
              "\n",
              "    .dataframe thead th {\n",
              "        text-align: right;\n",
              "    }\n",
              "</style>\n",
              "<table border=\"1\" class=\"dataframe\">\n",
              "  <thead>\n",
              "    <tr style=\"text-align: right;\">\n",
              "      <th></th>\n",
              "      <th>Category</th>\n",
              "      <th>Profit</th>\n",
              "    </tr>\n",
              "  </thead>\n",
              "  <tbody>\n",
              "    <tr>\n",
              "      <th>0</th>\n",
              "      <td>Furniture</td>\n",
              "      <td>3071.5913</td>\n",
              "    </tr>\n",
              "    <tr>\n",
              "      <th>1</th>\n",
              "      <td>Office Supplies</td>\n",
              "      <td>13460.6287</td>\n",
              "    </tr>\n",
              "    <tr>\n",
              "      <th>2</th>\n",
              "      <td>Technology</td>\n",
              "      <td>13908.5379</td>\n",
              "    </tr>\n",
              "  </tbody>\n",
              "</table>\n",
              "</div>"
            ],
            "text/plain": [
              "          Category      Profit\n",
              "0        Furniture   3071.5913\n",
              "1  Office Supplies  13460.6287\n",
              "2       Technology  13908.5379"
            ]
          },
          "metadata": {
            "tags": []
          },
          "execution_count": 7
        }
      ]
    },
    {
      "cell_type": "code",
      "metadata": {
        "id": "AmB9j5qSPR_Q",
        "colab": {
          "base_uri": "https://localhost:8080/",
          "height": 1000
        },
        "outputId": "23245502-569e-4b37-b15b-fb229d710a81"
      },
      "source": [
        "#Kategori yang diminati di kota Henderson\r\n",
        "\r\n",
        "dfH=sample_superstore_df[sample_superstore_df['City']=='Henderson']\r\n",
        "dfH"
      ],
      "execution_count": 8,
      "outputs": [
        {
          "output_type": "execute_result",
          "data": {
            "text/html": [
              "<div>\n",
              "<style scoped>\n",
              "    .dataframe tbody tr th:only-of-type {\n",
              "        vertical-align: middle;\n",
              "    }\n",
              "\n",
              "    .dataframe tbody tr th {\n",
              "        vertical-align: top;\n",
              "    }\n",
              "\n",
              "    .dataframe thead th {\n",
              "        text-align: right;\n",
              "    }\n",
              "</style>\n",
              "<table border=\"1\" class=\"dataframe\">\n",
              "  <thead>\n",
              "    <tr style=\"text-align: right;\">\n",
              "      <th></th>\n",
              "      <th>City</th>\n",
              "      <th>Category</th>\n",
              "      <th>Sub-Category</th>\n",
              "      <th>Sales</th>\n",
              "      <th>Quantity</th>\n",
              "      <th>Profit</th>\n",
              "    </tr>\n",
              "  </thead>\n",
              "  <tbody>\n",
              "    <tr>\n",
              "      <th>0</th>\n",
              "      <td>Henderson</td>\n",
              "      <td>Furniture</td>\n",
              "      <td>Bookcases</td>\n",
              "      <td>261.960</td>\n",
              "      <td>2</td>\n",
              "      <td>41.9136</td>\n",
              "    </tr>\n",
              "    <tr>\n",
              "      <th>1</th>\n",
              "      <td>Henderson</td>\n",
              "      <td>Furniture</td>\n",
              "      <td>Chairs</td>\n",
              "      <td>731.940</td>\n",
              "      <td>3</td>\n",
              "      <td>219.5820</td>\n",
              "    </tr>\n",
              "    <tr>\n",
              "      <th>538</th>\n",
              "      <td>Henderson</td>\n",
              "      <td>Office Supplies</td>\n",
              "      <td>Appliances</td>\n",
              "      <td>152.940</td>\n",
              "      <td>3</td>\n",
              "      <td>41.2938</td>\n",
              "    </tr>\n",
              "    <tr>\n",
              "      <th>539</th>\n",
              "      <td>Henderson</td>\n",
              "      <td>Furniture</td>\n",
              "      <td>Chairs</td>\n",
              "      <td>283.920</td>\n",
              "      <td>4</td>\n",
              "      <td>70.9800</td>\n",
              "    </tr>\n",
              "    <tr>\n",
              "      <th>996</th>\n",
              "      <td>Henderson</td>\n",
              "      <td>Office Supplies</td>\n",
              "      <td>Envelopes</td>\n",
              "      <td>10.670</td>\n",
              "      <td>1</td>\n",
              "      <td>4.9082</td>\n",
              "    </tr>\n",
              "    <tr>\n",
              "      <th>997</th>\n",
              "      <td>Henderson</td>\n",
              "      <td>Office Supplies</td>\n",
              "      <td>Storage</td>\n",
              "      <td>36.630</td>\n",
              "      <td>3</td>\n",
              "      <td>9.8901</td>\n",
              "    </tr>\n",
              "    <tr>\n",
              "      <th>998</th>\n",
              "      <td>Henderson</td>\n",
              "      <td>Furniture</td>\n",
              "      <td>Furnishings</td>\n",
              "      <td>24.100</td>\n",
              "      <td>5</td>\n",
              "      <td>9.1580</td>\n",
              "    </tr>\n",
              "    <tr>\n",
              "      <th>999</th>\n",
              "      <td>Henderson</td>\n",
              "      <td>Furniture</td>\n",
              "      <td>Furnishings</td>\n",
              "      <td>33.110</td>\n",
              "      <td>7</td>\n",
              "      <td>12.9129</td>\n",
              "    </tr>\n",
              "    <tr>\n",
              "      <th>1866</th>\n",
              "      <td>Henderson</td>\n",
              "      <td>Furniture</td>\n",
              "      <td>Furnishings</td>\n",
              "      <td>196.450</td>\n",
              "      <td>5</td>\n",
              "      <td>70.7220</td>\n",
              "    </tr>\n",
              "    <tr>\n",
              "      <th>2321</th>\n",
              "      <td>Henderson</td>\n",
              "      <td>Office Supplies</td>\n",
              "      <td>Binders</td>\n",
              "      <td>94.740</td>\n",
              "      <td>3</td>\n",
              "      <td>44.5278</td>\n",
              "    </tr>\n",
              "    <tr>\n",
              "      <th>2322</th>\n",
              "      <td>Henderson</td>\n",
              "      <td>Office Supplies</td>\n",
              "      <td>Binders</td>\n",
              "      <td>60.640</td>\n",
              "      <td>4</td>\n",
              "      <td>27.8944</td>\n",
              "    </tr>\n",
              "    <tr>\n",
              "      <th>2323</th>\n",
              "      <td>Henderson</td>\n",
              "      <td>Office Supplies</td>\n",
              "      <td>Binders</td>\n",
              "      <td>76.300</td>\n",
              "      <td>5</td>\n",
              "      <td>38.1500</td>\n",
              "    </tr>\n",
              "    <tr>\n",
              "      <th>2324</th>\n",
              "      <td>Henderson</td>\n",
              "      <td>Office Supplies</td>\n",
              "      <td>Binders</td>\n",
              "      <td>364.800</td>\n",
              "      <td>12</td>\n",
              "      <td>167.8080</td>\n",
              "    </tr>\n",
              "    <tr>\n",
              "      <th>2551</th>\n",
              "      <td>Henderson</td>\n",
              "      <td>Furniture</td>\n",
              "      <td>Furnishings</td>\n",
              "      <td>821.880</td>\n",
              "      <td>6</td>\n",
              "      <td>213.6888</td>\n",
              "    </tr>\n",
              "    <tr>\n",
              "      <th>2552</th>\n",
              "      <td>Henderson</td>\n",
              "      <td>Office Supplies</td>\n",
              "      <td>Binders</td>\n",
              "      <td>21.960</td>\n",
              "      <td>2</td>\n",
              "      <td>10.7604</td>\n",
              "    </tr>\n",
              "    <tr>\n",
              "      <th>3088</th>\n",
              "      <td>Henderson</td>\n",
              "      <td>Furniture</td>\n",
              "      <td>Furnishings</td>\n",
              "      <td>61.000</td>\n",
              "      <td>5</td>\n",
              "      <td>25.6200</td>\n",
              "    </tr>\n",
              "    <tr>\n",
              "      <th>3089</th>\n",
              "      <td>Henderson</td>\n",
              "      <td>Technology</td>\n",
              "      <td>Phones</td>\n",
              "      <td>671.930</td>\n",
              "      <td>7</td>\n",
              "      <td>188.1404</td>\n",
              "    </tr>\n",
              "    <tr>\n",
              "      <th>3537</th>\n",
              "      <td>Henderson</td>\n",
              "      <td>Office Supplies</td>\n",
              "      <td>Storage</td>\n",
              "      <td>83.250</td>\n",
              "      <td>3</td>\n",
              "      <td>14.9850</td>\n",
              "    </tr>\n",
              "    <tr>\n",
              "      <th>3538</th>\n",
              "      <td>Henderson</td>\n",
              "      <td>Office Supplies</td>\n",
              "      <td>Labels</td>\n",
              "      <td>9.450</td>\n",
              "      <td>3</td>\n",
              "      <td>4.5360</td>\n",
              "    </tr>\n",
              "    <tr>\n",
              "      <th>3539</th>\n",
              "      <td>Henderson</td>\n",
              "      <td>Office Supplies</td>\n",
              "      <td>Labels</td>\n",
              "      <td>20.650</td>\n",
              "      <td>5</td>\n",
              "      <td>9.4990</td>\n",
              "    </tr>\n",
              "    <tr>\n",
              "      <th>3540</th>\n",
              "      <td>Henderson</td>\n",
              "      <td>Office Supplies</td>\n",
              "      <td>Paper</td>\n",
              "      <td>45.360</td>\n",
              "      <td>7</td>\n",
              "      <td>21.7728</td>\n",
              "    </tr>\n",
              "    <tr>\n",
              "      <th>4378</th>\n",
              "      <td>Henderson</td>\n",
              "      <td>Office Supplies</td>\n",
              "      <td>Envelopes</td>\n",
              "      <td>17.480</td>\n",
              "      <td>2</td>\n",
              "      <td>8.2156</td>\n",
              "    </tr>\n",
              "    <tr>\n",
              "      <th>4379</th>\n",
              "      <td>Henderson</td>\n",
              "      <td>Office Supplies</td>\n",
              "      <td>Envelopes</td>\n",
              "      <td>71.880</td>\n",
              "      <td>2</td>\n",
              "      <td>32.3460</td>\n",
              "    </tr>\n",
              "    <tr>\n",
              "      <th>4430</th>\n",
              "      <td>Henderson</td>\n",
              "      <td>Office Supplies</td>\n",
              "      <td>Fasteners</td>\n",
              "      <td>20.000</td>\n",
              "      <td>4</td>\n",
              "      <td>9.6000</td>\n",
              "    </tr>\n",
              "    <tr>\n",
              "      <th>4431</th>\n",
              "      <td>Henderson</td>\n",
              "      <td>Office Supplies</td>\n",
              "      <td>Art</td>\n",
              "      <td>7.980</td>\n",
              "      <td>3</td>\n",
              "      <td>2.0748</td>\n",
              "    </tr>\n",
              "    <tr>\n",
              "      <th>4432</th>\n",
              "      <td>Henderson</td>\n",
              "      <td>Furniture</td>\n",
              "      <td>Furnishings</td>\n",
              "      <td>24.100</td>\n",
              "      <td>5</td>\n",
              "      <td>9.1580</td>\n",
              "    </tr>\n",
              "    <tr>\n",
              "      <th>4433</th>\n",
              "      <td>Henderson</td>\n",
              "      <td>Office Supplies</td>\n",
              "      <td>Art</td>\n",
              "      <td>8.750</td>\n",
              "      <td>1</td>\n",
              "      <td>2.6250</td>\n",
              "    </tr>\n",
              "    <tr>\n",
              "      <th>4434</th>\n",
              "      <td>Henderson</td>\n",
              "      <td>Furniture</td>\n",
              "      <td>Tables</td>\n",
              "      <td>842.940</td>\n",
              "      <td>3</td>\n",
              "      <td>160.1586</td>\n",
              "    </tr>\n",
              "    <tr>\n",
              "      <th>4840</th>\n",
              "      <td>Henderson</td>\n",
              "      <td>Furniture</td>\n",
              "      <td>Furnishings</td>\n",
              "      <td>27.580</td>\n",
              "      <td>2</td>\n",
              "      <td>11.5836</td>\n",
              "    </tr>\n",
              "    <tr>\n",
              "      <th>4879</th>\n",
              "      <td>Henderson</td>\n",
              "      <td>Office Supplies</td>\n",
              "      <td>Envelopes</td>\n",
              "      <td>5.320</td>\n",
              "      <td>2</td>\n",
              "      <td>2.6068</td>\n",
              "    </tr>\n",
              "    <tr>\n",
              "      <th>4880</th>\n",
              "      <td>Henderson</td>\n",
              "      <td>Furniture</td>\n",
              "      <td>Chairs</td>\n",
              "      <td>975.920</td>\n",
              "      <td>4</td>\n",
              "      <td>292.7760</td>\n",
              "    </tr>\n",
              "    <tr>\n",
              "      <th>4881</th>\n",
              "      <td>Henderson</td>\n",
              "      <td>Technology</td>\n",
              "      <td>Accessories</td>\n",
              "      <td>2249.910</td>\n",
              "      <td>9</td>\n",
              "      <td>517.4793</td>\n",
              "    </tr>\n",
              "    <tr>\n",
              "      <th>4882</th>\n",
              "      <td>Henderson</td>\n",
              "      <td>Office Supplies</td>\n",
              "      <td>Storage</td>\n",
              "      <td>59.920</td>\n",
              "      <td>4</td>\n",
              "      <td>16.7776</td>\n",
              "    </tr>\n",
              "    <tr>\n",
              "      <th>7090</th>\n",
              "      <td>Henderson</td>\n",
              "      <td>Office Supplies</td>\n",
              "      <td>Paper</td>\n",
              "      <td>106.320</td>\n",
              "      <td>3</td>\n",
              "      <td>49.9704</td>\n",
              "    </tr>\n",
              "    <tr>\n",
              "      <th>7091</th>\n",
              "      <td>Henderson</td>\n",
              "      <td>Office Supplies</td>\n",
              "      <td>Appliances</td>\n",
              "      <td>163.440</td>\n",
              "      <td>3</td>\n",
              "      <td>45.7632</td>\n",
              "    </tr>\n",
              "    <tr>\n",
              "      <th>7092</th>\n",
              "      <td>Henderson</td>\n",
              "      <td>Office Supplies</td>\n",
              "      <td>Art</td>\n",
              "      <td>42.760</td>\n",
              "      <td>2</td>\n",
              "      <td>11.1176</td>\n",
              "    </tr>\n",
              "    <tr>\n",
              "      <th>7093</th>\n",
              "      <td>Henderson</td>\n",
              "      <td>Office Supplies</td>\n",
              "      <td>Paper</td>\n",
              "      <td>51.550</td>\n",
              "      <td>5</td>\n",
              "      <td>24.2285</td>\n",
              "    </tr>\n",
              "    <tr>\n",
              "      <th>7114</th>\n",
              "      <td>Henderson</td>\n",
              "      <td>Furniture</td>\n",
              "      <td>Tables</td>\n",
              "      <td>1685.880</td>\n",
              "      <td>6</td>\n",
              "      <td>320.3172</td>\n",
              "    </tr>\n",
              "    <tr>\n",
              "      <th>7115</th>\n",
              "      <td>Henderson</td>\n",
              "      <td>Office Supplies</td>\n",
              "      <td>Binders</td>\n",
              "      <td>5.728</td>\n",
              "      <td>2</td>\n",
              "      <td>2.0048</td>\n",
              "    </tr>\n",
              "    <tr>\n",
              "      <th>7474</th>\n",
              "      <td>Henderson</td>\n",
              "      <td>Furniture</td>\n",
              "      <td>Chairs</td>\n",
              "      <td>2573.820</td>\n",
              "      <td>9</td>\n",
              "      <td>746.4078</td>\n",
              "    </tr>\n",
              "    <tr>\n",
              "      <th>7475</th>\n",
              "      <td>Henderson</td>\n",
              "      <td>Office Supplies</td>\n",
              "      <td>Binders</td>\n",
              "      <td>609.980</td>\n",
              "      <td>2</td>\n",
              "      <td>274.4910</td>\n",
              "    </tr>\n",
              "    <tr>\n",
              "      <th>7476</th>\n",
              "      <td>Henderson</td>\n",
              "      <td>Office Supplies</td>\n",
              "      <td>Art</td>\n",
              "      <td>5.480</td>\n",
              "      <td>2</td>\n",
              "      <td>1.4796</td>\n",
              "    </tr>\n",
              "    <tr>\n",
              "      <th>7477</th>\n",
              "      <td>Henderson</td>\n",
              "      <td>Technology</td>\n",
              "      <td>Phones</td>\n",
              "      <td>391.980</td>\n",
              "      <td>2</td>\n",
              "      <td>113.6742</td>\n",
              "    </tr>\n",
              "    <tr>\n",
              "      <th>7478</th>\n",
              "      <td>Henderson</td>\n",
              "      <td>Technology</td>\n",
              "      <td>Phones</td>\n",
              "      <td>755.960</td>\n",
              "      <td>4</td>\n",
              "      <td>204.1092</td>\n",
              "    </tr>\n",
              "    <tr>\n",
              "      <th>7479</th>\n",
              "      <td>Henderson</td>\n",
              "      <td>Office Supplies</td>\n",
              "      <td>Fasteners</td>\n",
              "      <td>31.120</td>\n",
              "      <td>4</td>\n",
              "      <td>0.3112</td>\n",
              "    </tr>\n",
              "    <tr>\n",
              "      <th>7480</th>\n",
              "      <td>Henderson</td>\n",
              "      <td>Office Supplies</td>\n",
              "      <td>Paper</td>\n",
              "      <td>6.540</td>\n",
              "      <td>1</td>\n",
              "      <td>3.0084</td>\n",
              "    </tr>\n",
              "    <tr>\n",
              "      <th>8639</th>\n",
              "      <td>Henderson</td>\n",
              "      <td>Office Supplies</td>\n",
              "      <td>Binders</td>\n",
              "      <td>12.390</td>\n",
              "      <td>3</td>\n",
              "      <td>5.8233</td>\n",
              "    </tr>\n",
              "    <tr>\n",
              "      <th>9074</th>\n",
              "      <td>Henderson</td>\n",
              "      <td>Office Supplies</td>\n",
              "      <td>Storage</td>\n",
              "      <td>828.840</td>\n",
              "      <td>6</td>\n",
              "      <td>0.0000</td>\n",
              "    </tr>\n",
              "    <tr>\n",
              "      <th>9078</th>\n",
              "      <td>Henderson</td>\n",
              "      <td>Furniture</td>\n",
              "      <td>Furnishings</td>\n",
              "      <td>318.080</td>\n",
              "      <td>4</td>\n",
              "      <td>34.9888</td>\n",
              "    </tr>\n",
              "    <tr>\n",
              "      <th>9079</th>\n",
              "      <td>Henderson</td>\n",
              "      <td>Office Supplies</td>\n",
              "      <td>Binders</td>\n",
              "      <td>5.800</td>\n",
              "      <td>1</td>\n",
              "      <td>2.6100</td>\n",
              "    </tr>\n",
              "    <tr>\n",
              "      <th>9273</th>\n",
              "      <td>Henderson</td>\n",
              "      <td>Office Supplies</td>\n",
              "      <td>Binders</td>\n",
              "      <td>1577.940</td>\n",
              "      <td>3</td>\n",
              "      <td>757.4112</td>\n",
              "    </tr>\n",
              "  </tbody>\n",
              "</table>\n",
              "</div>"
            ],
            "text/plain": [
              "           City         Category Sub-Category     Sales  Quantity    Profit\n",
              "0     Henderson        Furniture    Bookcases   261.960         2   41.9136\n",
              "1     Henderson        Furniture       Chairs   731.940         3  219.5820\n",
              "538   Henderson  Office Supplies   Appliances   152.940         3   41.2938\n",
              "539   Henderson        Furniture       Chairs   283.920         4   70.9800\n",
              "996   Henderson  Office Supplies    Envelopes    10.670         1    4.9082\n",
              "997   Henderson  Office Supplies      Storage    36.630         3    9.8901\n",
              "998   Henderson        Furniture  Furnishings    24.100         5    9.1580\n",
              "999   Henderson        Furniture  Furnishings    33.110         7   12.9129\n",
              "1866  Henderson        Furniture  Furnishings   196.450         5   70.7220\n",
              "2321  Henderson  Office Supplies      Binders    94.740         3   44.5278\n",
              "2322  Henderson  Office Supplies      Binders    60.640         4   27.8944\n",
              "2323  Henderson  Office Supplies      Binders    76.300         5   38.1500\n",
              "2324  Henderson  Office Supplies      Binders   364.800        12  167.8080\n",
              "2551  Henderson        Furniture  Furnishings   821.880         6  213.6888\n",
              "2552  Henderson  Office Supplies      Binders    21.960         2   10.7604\n",
              "3088  Henderson        Furniture  Furnishings    61.000         5   25.6200\n",
              "3089  Henderson       Technology       Phones   671.930         7  188.1404\n",
              "3537  Henderson  Office Supplies      Storage    83.250         3   14.9850\n",
              "3538  Henderson  Office Supplies       Labels     9.450         3    4.5360\n",
              "3539  Henderson  Office Supplies       Labels    20.650         5    9.4990\n",
              "3540  Henderson  Office Supplies        Paper    45.360         7   21.7728\n",
              "4378  Henderson  Office Supplies    Envelopes    17.480         2    8.2156\n",
              "4379  Henderson  Office Supplies    Envelopes    71.880         2   32.3460\n",
              "4430  Henderson  Office Supplies    Fasteners    20.000         4    9.6000\n",
              "4431  Henderson  Office Supplies          Art     7.980         3    2.0748\n",
              "4432  Henderson        Furniture  Furnishings    24.100         5    9.1580\n",
              "4433  Henderson  Office Supplies          Art     8.750         1    2.6250\n",
              "4434  Henderson        Furniture       Tables   842.940         3  160.1586\n",
              "4840  Henderson        Furniture  Furnishings    27.580         2   11.5836\n",
              "4879  Henderson  Office Supplies    Envelopes     5.320         2    2.6068\n",
              "4880  Henderson        Furniture       Chairs   975.920         4  292.7760\n",
              "4881  Henderson       Technology  Accessories  2249.910         9  517.4793\n",
              "4882  Henderson  Office Supplies      Storage    59.920         4   16.7776\n",
              "7090  Henderson  Office Supplies        Paper   106.320         3   49.9704\n",
              "7091  Henderson  Office Supplies   Appliances   163.440         3   45.7632\n",
              "7092  Henderson  Office Supplies          Art    42.760         2   11.1176\n",
              "7093  Henderson  Office Supplies        Paper    51.550         5   24.2285\n",
              "7114  Henderson        Furniture       Tables  1685.880         6  320.3172\n",
              "7115  Henderson  Office Supplies      Binders     5.728         2    2.0048\n",
              "7474  Henderson        Furniture       Chairs  2573.820         9  746.4078\n",
              "7475  Henderson  Office Supplies      Binders   609.980         2  274.4910\n",
              "7476  Henderson  Office Supplies          Art     5.480         2    1.4796\n",
              "7477  Henderson       Technology       Phones   391.980         2  113.6742\n",
              "7478  Henderson       Technology       Phones   755.960         4  204.1092\n",
              "7479  Henderson  Office Supplies    Fasteners    31.120         4    0.3112\n",
              "7480  Henderson  Office Supplies        Paper     6.540         1    3.0084\n",
              "8639  Henderson  Office Supplies      Binders    12.390         3    5.8233\n",
              "9074  Henderson  Office Supplies      Storage   828.840         6    0.0000\n",
              "9078  Henderson        Furniture  Furnishings   318.080         4   34.9888\n",
              "9079  Henderson  Office Supplies      Binders     5.800         1    2.6100\n",
              "9273  Henderson  Office Supplies      Binders  1577.940         3  757.4112"
            ]
          },
          "metadata": {
            "tags": []
          },
          "execution_count": 8
        }
      ]
    },
    {
      "cell_type": "code",
      "metadata": {
        "id": "DabFTfqRP1Yr",
        "colab": {
          "base_uri": "https://localhost:8080/"
        },
        "outputId": "39ae74eb-b85a-4efc-e242-88b453f408db"
      },
      "source": [
        "# Jumlah Total keuntungan dari masing-masing kategori yang diminati di kota Henderson\r\n",
        "\r\n",
        "categoryH_df = dfH.groupby([\"Category\"])\r\n",
        "categoryH_df['Profit'].sum()"
      ],
      "execution_count": 9,
      "outputs": [
        {
          "output_type": "execute_result",
          "data": {
            "text/plain": [
              "Category\n",
              "Furniture          2239.9673\n",
              "Office Supplies    1648.4905\n",
              "Technology         1023.4031\n",
              "Name: Profit, dtype: float64"
            ]
          },
          "metadata": {
            "tags": []
          },
          "execution_count": 9
        }
      ]
    },
    {
      "cell_type": "code",
      "metadata": {
        "id": "Y19nPVHhP-SU",
        "colab": {
          "base_uri": "https://localhost:8080/"
        },
        "outputId": "119ddc94-0cda-41a4-db2f-3f8010d40163"
      },
      "source": [
        "# Jumlah Total keuntungan dari kategori yang diminati di kota Henderson\r\n",
        "\r\n",
        "categoryH_df['Profit'].sum().sum()"
      ],
      "execution_count": 10,
      "outputs": [
        {
          "output_type": "execute_result",
          "data": {
            "text/plain": [
              "4911.860900000001"
            ]
          },
          "metadata": {
            "tags": []
          },
          "execution_count": 10
        }
      ]
    },
    {
      "cell_type": "code",
      "metadata": {
        "id": "YuWB90WiRn8_",
        "colab": {
          "base_uri": "https://localhost:8080/",
          "height": 394
        },
        "outputId": "1a1949d9-3411-483b-ae97-51019b18da58"
      },
      "source": [
        "#Kategori yang diminati di kota Costa Mesa\r\n",
        "\r\n",
        "dfCM=sample_superstore_df[sample_superstore_df['City']=='Costa Mesa']\r\n",
        "dfCM"
      ],
      "execution_count": 11,
      "outputs": [
        {
          "output_type": "execute_result",
          "data": {
            "text/html": [
              "<div>\n",
              "<style scoped>\n",
              "    .dataframe tbody tr th:only-of-type {\n",
              "        vertical-align: middle;\n",
              "    }\n",
              "\n",
              "    .dataframe tbody tr th {\n",
              "        vertical-align: top;\n",
              "    }\n",
              "\n",
              "    .dataframe thead th {\n",
              "        text-align: right;\n",
              "    }\n",
              "</style>\n",
              "<table border=\"1\" class=\"dataframe\">\n",
              "  <thead>\n",
              "    <tr style=\"text-align: right;\">\n",
              "      <th></th>\n",
              "      <th>City</th>\n",
              "      <th>Category</th>\n",
              "      <th>Sub-Category</th>\n",
              "      <th>Sales</th>\n",
              "      <th>Quantity</th>\n",
              "      <th>Profit</th>\n",
              "    </tr>\n",
              "  </thead>\n",
              "  <tbody>\n",
              "    <tr>\n",
              "      <th>496</th>\n",
              "      <td>Costa Mesa</td>\n",
              "      <td>Office Supplies</td>\n",
              "      <td>Binders</td>\n",
              "      <td>119.616</td>\n",
              "      <td>8</td>\n",
              "      <td>40.3704</td>\n",
              "    </tr>\n",
              "    <tr>\n",
              "      <th>497</th>\n",
              "      <td>Costa Mesa</td>\n",
              "      <td>Furniture</td>\n",
              "      <td>Furnishings</td>\n",
              "      <td>255.760</td>\n",
              "      <td>4</td>\n",
              "      <td>81.8432</td>\n",
              "    </tr>\n",
              "    <tr>\n",
              "      <th>498</th>\n",
              "      <td>Costa Mesa</td>\n",
              "      <td>Furniture</td>\n",
              "      <td>Chairs</td>\n",
              "      <td>241.568</td>\n",
              "      <td>2</td>\n",
              "      <td>18.1176</td>\n",
              "    </tr>\n",
              "    <tr>\n",
              "      <th>499</th>\n",
              "      <td>Costa Mesa</td>\n",
              "      <td>Furniture</td>\n",
              "      <td>Furnishings</td>\n",
              "      <td>69.300</td>\n",
              "      <td>9</td>\n",
              "      <td>22.8690</td>\n",
              "    </tr>\n",
              "    <tr>\n",
              "      <th>1414</th>\n",
              "      <td>Costa Mesa</td>\n",
              "      <td>Technology</td>\n",
              "      <td>Accessories</td>\n",
              "      <td>239.970</td>\n",
              "      <td>3</td>\n",
              "      <td>26.3967</td>\n",
              "    </tr>\n",
              "    <tr>\n",
              "      <th>1415</th>\n",
              "      <td>Costa Mesa</td>\n",
              "      <td>Furniture</td>\n",
              "      <td>Furnishings</td>\n",
              "      <td>37.740</td>\n",
              "      <td>3</td>\n",
              "      <td>12.8316</td>\n",
              "    </tr>\n",
              "    <tr>\n",
              "      <th>2718</th>\n",
              "      <td>Costa Mesa</td>\n",
              "      <td>Office Supplies</td>\n",
              "      <td>Storage</td>\n",
              "      <td>124.360</td>\n",
              "      <td>2</td>\n",
              "      <td>33.5772</td>\n",
              "    </tr>\n",
              "    <tr>\n",
              "      <th>6087</th>\n",
              "      <td>Costa Mesa</td>\n",
              "      <td>Furniture</td>\n",
              "      <td>Furnishings</td>\n",
              "      <td>29.220</td>\n",
              "      <td>3</td>\n",
              "      <td>12.8568</td>\n",
              "    </tr>\n",
              "    <tr>\n",
              "      <th>9990</th>\n",
              "      <td>Costa Mesa</td>\n",
              "      <td>Furniture</td>\n",
              "      <td>Furnishings</td>\n",
              "      <td>91.960</td>\n",
              "      <td>2</td>\n",
              "      <td>15.6332</td>\n",
              "    </tr>\n",
              "    <tr>\n",
              "      <th>9991</th>\n",
              "      <td>Costa Mesa</td>\n",
              "      <td>Technology</td>\n",
              "      <td>Phones</td>\n",
              "      <td>258.576</td>\n",
              "      <td>2</td>\n",
              "      <td>19.3932</td>\n",
              "    </tr>\n",
              "    <tr>\n",
              "      <th>9992</th>\n",
              "      <td>Costa Mesa</td>\n",
              "      <td>Office Supplies</td>\n",
              "      <td>Paper</td>\n",
              "      <td>29.600</td>\n",
              "      <td>4</td>\n",
              "      <td>13.3200</td>\n",
              "    </tr>\n",
              "  </tbody>\n",
              "</table>\n",
              "</div>"
            ],
            "text/plain": [
              "            City         Category Sub-Category    Sales  Quantity   Profit\n",
              "496   Costa Mesa  Office Supplies      Binders  119.616         8  40.3704\n",
              "497   Costa Mesa        Furniture  Furnishings  255.760         4  81.8432\n",
              "498   Costa Mesa        Furniture       Chairs  241.568         2  18.1176\n",
              "499   Costa Mesa        Furniture  Furnishings   69.300         9  22.8690\n",
              "1414  Costa Mesa       Technology  Accessories  239.970         3  26.3967\n",
              "1415  Costa Mesa        Furniture  Furnishings   37.740         3  12.8316\n",
              "2718  Costa Mesa  Office Supplies      Storage  124.360         2  33.5772\n",
              "6087  Costa Mesa        Furniture  Furnishings   29.220         3  12.8568\n",
              "9990  Costa Mesa        Furniture  Furnishings   91.960         2  15.6332\n",
              "9991  Costa Mesa       Technology       Phones  258.576         2  19.3932\n",
              "9992  Costa Mesa  Office Supplies        Paper   29.600         4  13.3200"
            ]
          },
          "metadata": {
            "tags": []
          },
          "execution_count": 11
        }
      ]
    },
    {
      "cell_type": "code",
      "metadata": {
        "id": "2-JHLcNkRoz4",
        "colab": {
          "base_uri": "https://localhost:8080/"
        },
        "outputId": "e2d24e85-54ef-4931-8ec1-38b884eded4d"
      },
      "source": [
        "# Jumlah Total keuntungan dari masing-masing kategori yang diminati di kota Costa Mesa\r\n",
        "\r\n",
        "categoryCM_df = dfCM.groupby([\"Category\"])\r\n",
        "categoryCM_df['Profit'].sum()"
      ],
      "execution_count": 12,
      "outputs": [
        {
          "output_type": "execute_result",
          "data": {
            "text/plain": [
              "Category\n",
              "Furniture          164.1514\n",
              "Office Supplies     87.2676\n",
              "Technology          45.7899\n",
              "Name: Profit, dtype: float64"
            ]
          },
          "metadata": {
            "tags": []
          },
          "execution_count": 12
        }
      ]
    },
    {
      "cell_type": "code",
      "metadata": {
        "id": "pO7fIFrSRpTb",
        "colab": {
          "base_uri": "https://localhost:8080/"
        },
        "outputId": "61560aac-f4dc-47ed-8707-d90c8c574634"
      },
      "source": [
        "# Jumlah Total keuntungan dari kategori yang diminati di kota Costa Mesa\r\n",
        "\r\n",
        "categoryCM_df['Profit'].sum().sum()"
      ],
      "execution_count": 13,
      "outputs": [
        {
          "output_type": "execute_result",
          "data": {
            "text/plain": [
              "297.20889999999997"
            ]
          },
          "metadata": {
            "tags": []
          },
          "execution_count": 13
        }
      ]
    },
    {
      "cell_type": "code",
      "metadata": {
        "id": "hM_0oEMtvhdG",
        "colab": {
          "base_uri": "https://localhost:8080/",
          "height": 424
        },
        "outputId": "ef67fa96-0cef-48d5-debd-85f11e93da17"
      },
      "source": [
        "#Kategori yang diminati di kota Seattle\r\n",
        "\r\n",
        "dfS=sample_superstore_df[sample_superstore_df['City']=='Seattle']\r\n",
        "dfS"
      ],
      "execution_count": 14,
      "outputs": [
        {
          "output_type": "execute_result",
          "data": {
            "text/html": [
              "<div>\n",
              "<style scoped>\n",
              "    .dataframe tbody tr th:only-of-type {\n",
              "        vertical-align: middle;\n",
              "    }\n",
              "\n",
              "    .dataframe tbody tr th {\n",
              "        vertical-align: top;\n",
              "    }\n",
              "\n",
              "    .dataframe thead th {\n",
              "        text-align: right;\n",
              "    }\n",
              "</style>\n",
              "<table border=\"1\" class=\"dataframe\">\n",
              "  <thead>\n",
              "    <tr style=\"text-align: right;\">\n",
              "      <th></th>\n",
              "      <th>City</th>\n",
              "      <th>Category</th>\n",
              "      <th>Sub-Category</th>\n",
              "      <th>Sales</th>\n",
              "      <th>Quantity</th>\n",
              "      <th>Profit</th>\n",
              "    </tr>\n",
              "  </thead>\n",
              "  <tbody>\n",
              "    <tr>\n",
              "      <th>13</th>\n",
              "      <td>Seattle</td>\n",
              "      <td>Office Supplies</td>\n",
              "      <td>Binders</td>\n",
              "      <td>407.976</td>\n",
              "      <td>3</td>\n",
              "      <td>132.5922</td>\n",
              "    </tr>\n",
              "    <tr>\n",
              "      <th>117</th>\n",
              "      <td>Seattle</td>\n",
              "      <td>Furniture</td>\n",
              "      <td>Tables</td>\n",
              "      <td>787.530</td>\n",
              "      <td>3</td>\n",
              "      <td>165.3813</td>\n",
              "    </tr>\n",
              "    <tr>\n",
              "      <th>156</th>\n",
              "      <td>Seattle</td>\n",
              "      <td>Office Supplies</td>\n",
              "      <td>Art</td>\n",
              "      <td>6.630</td>\n",
              "      <td>3</td>\n",
              "      <td>1.7901</td>\n",
              "    </tr>\n",
              "    <tr>\n",
              "      <th>157</th>\n",
              "      <td>Seattle</td>\n",
              "      <td>Furniture</td>\n",
              "      <td>Chairs</td>\n",
              "      <td>457.568</td>\n",
              "      <td>2</td>\n",
              "      <td>51.4764</td>\n",
              "    </tr>\n",
              "    <tr>\n",
              "      <th>163</th>\n",
              "      <td>Seattle</td>\n",
              "      <td>Office Supplies</td>\n",
              "      <td>Binders</td>\n",
              "      <td>27.680</td>\n",
              "      <td>2</td>\n",
              "      <td>9.6880</td>\n",
              "    </tr>\n",
              "    <tr>\n",
              "      <th>...</th>\n",
              "      <td>...</td>\n",
              "      <td>...</td>\n",
              "      <td>...</td>\n",
              "      <td>...</td>\n",
              "      <td>...</td>\n",
              "      <td>...</td>\n",
              "    </tr>\n",
              "    <tr>\n",
              "      <th>9761</th>\n",
              "      <td>Seattle</td>\n",
              "      <td>Technology</td>\n",
              "      <td>Accessories</td>\n",
              "      <td>239.970</td>\n",
              "      <td>3</td>\n",
              "      <td>86.3892</td>\n",
              "    </tr>\n",
              "    <tr>\n",
              "      <th>9762</th>\n",
              "      <td>Seattle</td>\n",
              "      <td>Office Supplies</td>\n",
              "      <td>Appliances</td>\n",
              "      <td>81.960</td>\n",
              "      <td>2</td>\n",
              "      <td>22.9488</td>\n",
              "    </tr>\n",
              "    <tr>\n",
              "      <th>9763</th>\n",
              "      <td>Seattle</td>\n",
              "      <td>Office Supplies</td>\n",
              "      <td>Supplies</td>\n",
              "      <td>238.620</td>\n",
              "      <td>2</td>\n",
              "      <td>4.7724</td>\n",
              "    </tr>\n",
              "    <tr>\n",
              "      <th>9857</th>\n",
              "      <td>Seattle</td>\n",
              "      <td>Furniture</td>\n",
              "      <td>Tables</td>\n",
              "      <td>3393.680</td>\n",
              "      <td>8</td>\n",
              "      <td>610.8624</td>\n",
              "    </tr>\n",
              "    <tr>\n",
              "      <th>9944</th>\n",
              "      <td>Seattle</td>\n",
              "      <td>Office Supplies</td>\n",
              "      <td>Storage</td>\n",
              "      <td>40.740</td>\n",
              "      <td>3</td>\n",
              "      <td>0.4074</td>\n",
              "    </tr>\n",
              "  </tbody>\n",
              "</table>\n",
              "<p>428 rows × 6 columns</p>\n",
              "</div>"
            ],
            "text/plain": [
              "         City         Category Sub-Category     Sales  Quantity    Profit\n",
              "13    Seattle  Office Supplies      Binders   407.976         3  132.5922\n",
              "117   Seattle        Furniture       Tables   787.530         3  165.3813\n",
              "156   Seattle  Office Supplies          Art     6.630         3    1.7901\n",
              "157   Seattle        Furniture       Chairs   457.568         2   51.4764\n",
              "163   Seattle  Office Supplies      Binders    27.680         2    9.6880\n",
              "...       ...              ...          ...       ...       ...       ...\n",
              "9761  Seattle       Technology  Accessories   239.970         3   86.3892\n",
              "9762  Seattle  Office Supplies   Appliances    81.960         2   22.9488\n",
              "9763  Seattle  Office Supplies     Supplies   238.620         2    4.7724\n",
              "9857  Seattle        Furniture       Tables  3393.680         8  610.8624\n",
              "9944  Seattle  Office Supplies      Storage    40.740         3    0.4074\n",
              "\n",
              "[428 rows x 6 columns]"
            ]
          },
          "metadata": {
            "tags": []
          },
          "execution_count": 14
        }
      ]
    },
    {
      "cell_type": "code",
      "metadata": {
        "id": "wWrcXATNvuf3",
        "colab": {
          "base_uri": "https://localhost:8080/"
        },
        "outputId": "410a4c62-1253-4382-e68d-2cdcd8cf87ba"
      },
      "source": [
        "# Jumlah Total keuntungan dari masing-masing kategori yang diminati di kota Seattle\r\n",
        "\r\n",
        "categoryS_df = dfS.groupby([\"Category\"])\r\n",
        "categoryS_df['Profit'].sum()"
      ],
      "execution_count": 15,
      "outputs": [
        {
          "output_type": "execute_result",
          "data": {
            "text/plain": [
              "Category\n",
              "Furniture           6208.8182\n",
              "Office Supplies     9915.4303\n",
              "Technology         13031.8482\n",
              "Name: Profit, dtype: float64"
            ]
          },
          "metadata": {
            "tags": []
          },
          "execution_count": 15
        }
      ]
    },
    {
      "cell_type": "code",
      "metadata": {
        "id": "wmL3RFszv6AJ",
        "colab": {
          "base_uri": "https://localhost:8080/"
        },
        "outputId": "f25d68e4-5dbe-4465-e3ef-e85c225e76db"
      },
      "source": [
        "# Jumlah Total keuntungan dari kategori yang diminati di kota Seattle\r\n",
        "\r\n",
        "categoryS_df['Profit'].sum().sum()"
      ],
      "execution_count": 16,
      "outputs": [
        {
          "output_type": "execute_result",
          "data": {
            "text/plain": [
              "29156.09669999999"
            ]
          },
          "metadata": {
            "tags": []
          },
          "execution_count": 16
        }
      ]
    },
    {
      "cell_type": "code",
      "metadata": {
        "id": "yjQLBd7GwKox",
        "colab": {
          "base_uri": "https://localhost:8080/",
          "height": 363
        },
        "outputId": "5b4bf202-bb33-447f-85fb-acb5ec62448f"
      },
      "source": [
        "#Kategori yang diminati di kota Madison\r\n",
        "\r\n",
        "dfM=sample_superstore_df[sample_superstore_df['City']=='Madison']\r\n",
        "dfM"
      ],
      "execution_count": 17,
      "outputs": [
        {
          "output_type": "execute_result",
          "data": {
            "text/html": [
              "<div>\n",
              "<style scoped>\n",
              "    .dataframe tbody tr th:only-of-type {\n",
              "        vertical-align: middle;\n",
              "    }\n",
              "\n",
              "    .dataframe tbody tr th {\n",
              "        vertical-align: top;\n",
              "    }\n",
              "\n",
              "    .dataframe thead th {\n",
              "        text-align: right;\n",
              "    }\n",
              "</style>\n",
              "<table border=\"1\" class=\"dataframe\">\n",
              "  <thead>\n",
              "    <tr style=\"text-align: right;\">\n",
              "      <th></th>\n",
              "      <th>City</th>\n",
              "      <th>Category</th>\n",
              "      <th>Sub-Category</th>\n",
              "      <th>Sales</th>\n",
              "      <th>Quantity</th>\n",
              "      <th>Profit</th>\n",
              "    </tr>\n",
              "  </thead>\n",
              "  <tbody>\n",
              "    <tr>\n",
              "      <th>16</th>\n",
              "      <td>Madison</td>\n",
              "      <td>Office Supplies</td>\n",
              "      <td>Storage</td>\n",
              "      <td>665.88</td>\n",
              "      <td>6</td>\n",
              "      <td>13.3176</td>\n",
              "    </tr>\n",
              "    <tr>\n",
              "      <th>1791</th>\n",
              "      <td>Madison</td>\n",
              "      <td>Furniture</td>\n",
              "      <td>Chairs</td>\n",
              "      <td>2807.84</td>\n",
              "      <td>8</td>\n",
              "      <td>673.8816</td>\n",
              "    </tr>\n",
              "    <tr>\n",
              "      <th>1792</th>\n",
              "      <td>Madison</td>\n",
              "      <td>Office Supplies</td>\n",
              "      <td>Art</td>\n",
              "      <td>46.64</td>\n",
              "      <td>4</td>\n",
              "      <td>12.5928</td>\n",
              "    </tr>\n",
              "    <tr>\n",
              "      <th>3415</th>\n",
              "      <td>Madison</td>\n",
              "      <td>Office Supplies</td>\n",
              "      <td>Fasteners</td>\n",
              "      <td>1.81</td>\n",
              "      <td>1</td>\n",
              "      <td>0.6516</td>\n",
              "    </tr>\n",
              "    <tr>\n",
              "      <th>3416</th>\n",
              "      <td>Madison</td>\n",
              "      <td>Office Supplies</td>\n",
              "      <td>Binders</td>\n",
              "      <td>8.26</td>\n",
              "      <td>2</td>\n",
              "      <td>3.8822</td>\n",
              "    </tr>\n",
              "    <tr>\n",
              "      <th>5727</th>\n",
              "      <td>Madison</td>\n",
              "      <td>Technology</td>\n",
              "      <td>Accessories</td>\n",
              "      <td>178.11</td>\n",
              "      <td>3</td>\n",
              "      <td>32.0598</td>\n",
              "    </tr>\n",
              "    <tr>\n",
              "      <th>5728</th>\n",
              "      <td>Madison</td>\n",
              "      <td>Office Supplies</td>\n",
              "      <td>Appliances</td>\n",
              "      <td>1089.75</td>\n",
              "      <td>3</td>\n",
              "      <td>305.1300</td>\n",
              "    </tr>\n",
              "    <tr>\n",
              "      <th>5729</th>\n",
              "      <td>Madison</td>\n",
              "      <td>Office Supplies</td>\n",
              "      <td>Labels</td>\n",
              "      <td>61.06</td>\n",
              "      <td>2</td>\n",
              "      <td>28.0876</td>\n",
              "    </tr>\n",
              "    <tr>\n",
              "      <th>5730</th>\n",
              "      <td>Madison</td>\n",
              "      <td>Furniture</td>\n",
              "      <td>Bookcases</td>\n",
              "      <td>459.92</td>\n",
              "      <td>4</td>\n",
              "      <td>41.3928</td>\n",
              "    </tr>\n",
              "    <tr>\n",
              "      <th>5731</th>\n",
              "      <td>Madison</td>\n",
              "      <td>Office Supplies</td>\n",
              "      <td>Paper</td>\n",
              "      <td>27.52</td>\n",
              "      <td>4</td>\n",
              "      <td>12.6592</td>\n",
              "    </tr>\n",
              "  </tbody>\n",
              "</table>\n",
              "</div>"
            ],
            "text/plain": [
              "         City         Category Sub-Category    Sales  Quantity    Profit\n",
              "16    Madison  Office Supplies      Storage   665.88         6   13.3176\n",
              "1791  Madison        Furniture       Chairs  2807.84         8  673.8816\n",
              "1792  Madison  Office Supplies          Art    46.64         4   12.5928\n",
              "3415  Madison  Office Supplies    Fasteners     1.81         1    0.6516\n",
              "3416  Madison  Office Supplies      Binders     8.26         2    3.8822\n",
              "5727  Madison       Technology  Accessories   178.11         3   32.0598\n",
              "5728  Madison  Office Supplies   Appliances  1089.75         3  305.1300\n",
              "5729  Madison  Office Supplies       Labels    61.06         2   28.0876\n",
              "5730  Madison        Furniture    Bookcases   459.92         4   41.3928\n",
              "5731  Madison  Office Supplies        Paper    27.52         4   12.6592"
            ]
          },
          "metadata": {
            "tags": []
          },
          "execution_count": 17
        }
      ]
    },
    {
      "cell_type": "code",
      "metadata": {
        "id": "OPqTRBgOwX2r",
        "colab": {
          "base_uri": "https://localhost:8080/"
        },
        "outputId": "bfd8aab5-72b9-4369-df25-dcb028d8d4b6"
      },
      "source": [
        "# Jumlah Total keuntungan dari masing-masing kategori yang diminati di kota Madison\r\n",
        "\r\n",
        "categoryM_df = dfM.groupby([\"Category\"])\r\n",
        "categoryM_df['Profit'].sum()"
      ],
      "execution_count": 18,
      "outputs": [
        {
          "output_type": "execute_result",
          "data": {
            "text/plain": [
              "Category\n",
              "Furniture          715.2744\n",
              "Office Supplies    376.3210\n",
              "Technology          32.0598\n",
              "Name: Profit, dtype: float64"
            ]
          },
          "metadata": {
            "tags": []
          },
          "execution_count": 18
        }
      ]
    },
    {
      "cell_type": "code",
      "metadata": {
        "id": "FMo3RmC1whB1",
        "colab": {
          "base_uri": "https://localhost:8080/"
        },
        "outputId": "864c9fb4-1a0d-4dac-eabc-e54432d97014"
      },
      "source": [
        "# Jumlah Total keuntungan dari kategori yang diminati di kota Madison\r\n",
        "\r\n",
        "categoryM_df['Profit'].sum().sum()"
      ],
      "execution_count": 19,
      "outputs": [
        {
          "output_type": "execute_result",
          "data": {
            "text/plain": [
              "1123.6552000000001"
            ]
          },
          "metadata": {
            "tags": []
          },
          "execution_count": 19
        }
      ]
    },
    {
      "cell_type": "code",
      "metadata": {
        "id": "HOr1ZxLuho7-",
        "colab": {
          "base_uri": "https://localhost:8080/",
          "height": 206
        },
        "outputId": "ebe6aa0c-a684-468f-c95a-e41203932021"
      },
      "source": [
        "#Total keuntungan di kota Los Angeles, Henderson, Costa mesa, Seattle, dan Madison\r\n",
        "\r\n",
        "Keuntungan_5_kota = pd.DataFrame(data={'City': ['Los Angeles', 'Henderson', 'Costa Mesa', 'Seattle', 'Madison'], 'Profit': [30440.757900000008, 4911.860900000001, 297.20889999999997, 29156.09669999999, 1123.6552000000001]})\r\n",
        "Keuntungan_5_kota"
      ],
      "execution_count": 20,
      "outputs": [
        {
          "output_type": "execute_result",
          "data": {
            "text/html": [
              "<div>\n",
              "<style scoped>\n",
              "    .dataframe tbody tr th:only-of-type {\n",
              "        vertical-align: middle;\n",
              "    }\n",
              "\n",
              "    .dataframe tbody tr th {\n",
              "        vertical-align: top;\n",
              "    }\n",
              "\n",
              "    .dataframe thead th {\n",
              "        text-align: right;\n",
              "    }\n",
              "</style>\n",
              "<table border=\"1\" class=\"dataframe\">\n",
              "  <thead>\n",
              "    <tr style=\"text-align: right;\">\n",
              "      <th></th>\n",
              "      <th>City</th>\n",
              "      <th>Profit</th>\n",
              "    </tr>\n",
              "  </thead>\n",
              "  <tbody>\n",
              "    <tr>\n",
              "      <th>0</th>\n",
              "      <td>Los Angeles</td>\n",
              "      <td>30440.7579</td>\n",
              "    </tr>\n",
              "    <tr>\n",
              "      <th>1</th>\n",
              "      <td>Henderson</td>\n",
              "      <td>4911.8609</td>\n",
              "    </tr>\n",
              "    <tr>\n",
              "      <th>2</th>\n",
              "      <td>Costa Mesa</td>\n",
              "      <td>297.2089</td>\n",
              "    </tr>\n",
              "    <tr>\n",
              "      <th>3</th>\n",
              "      <td>Seattle</td>\n",
              "      <td>29156.0967</td>\n",
              "    </tr>\n",
              "    <tr>\n",
              "      <th>4</th>\n",
              "      <td>Madison</td>\n",
              "      <td>1123.6552</td>\n",
              "    </tr>\n",
              "  </tbody>\n",
              "</table>\n",
              "</div>"
            ],
            "text/plain": [
              "          City      Profit\n",
              "0  Los Angeles  30440.7579\n",
              "1    Henderson   4911.8609\n",
              "2   Costa Mesa    297.2089\n",
              "3      Seattle  29156.0967\n",
              "4      Madison   1123.6552"
            ]
          },
          "metadata": {
            "tags": []
          },
          "execution_count": 20
        }
      ]
    },
    {
      "cell_type": "markdown",
      "metadata": {
        "id": "eKxgIsbNpd43"
      },
      "source": [
        "## Data Visualization"
      ]
    },
    {
      "cell_type": "markdown",
      "metadata": {
        "id": "bT_7uMvoUtIH"
      },
      "source": [
        "###Jumlah total keuntungan dari masing-masing kategori yang diminati di kota Los Angeles"
      ]
    },
    {
      "cell_type": "code",
      "metadata": {
        "id": "SgRJcYSvXpvJ",
        "colab": {
          "base_uri": "https://localhost:8080/",
          "height": 265
        },
        "outputId": "73216d41-dce2-4015-a734-103a109f9a74"
      },
      "source": [
        "import matplotlib.pyplot as plt\r\n",
        "import numpy as np\r\n",
        "\r\n",
        "category = np.array(['Furniture','Office Supplies','Technology'])\r\n",
        "total_keuntungan = np.array([3071.5913, 13460.6287, 13908.5379])\r\n",
        "\r\n",
        "plt.bar(category,total_keuntungan)\r\n",
        "plt.show()"
      ],
      "execution_count": 21,
      "outputs": [
        {
          "output_type": "display_data",
          "data": {
            "image/png": "[encoded data removed]",
            "text/plain": [
              "<Figure size 432x288 with 1 Axes>"
            ]
          },
          "metadata": {
            "tags": [],
            "needs_background": "light"
          }
        }
      ]
    },
    {
      "cell_type": "markdown",
      "metadata": {
        "id": "kgFA59QFbRo4"
      },
      "source": [
        "###Jumlah total keuntungan di kota Los Angeles, Henderson, Costa Mesa, Seattle, dan Madison"
      ]
    },
    {
      "cell_type": "code",
      "metadata": {
        "id": "6KGUXEocbdth",
        "colab": {
          "base_uri": "https://localhost:8080/",
          "height": 265
        },
        "outputId": "c483421c-9ea9-4e8f-f331-f7374a8482b0"
      },
      "source": [
        "import matplotlib.pyplot as plt\r\n",
        "import numpy as np\r\n",
        "\r\n",
        "city = np.array(['Los Angeles','Henderson','Costa Mesa','Seattle','Madison'])\r\n",
        "total_keuntungan = np.array([30440.7579, 4911.8609, 297.2089, 29156.0967, 1123.6552])\r\n",
        "\r\n",
        "plt.bar(city,total_keuntungan, color = \"green\")\r\n",
        "plt.show()"
      ],
      "execution_count": 22,
      "outputs": [
        {
          "output_type": "display_data",
          "data": {
            "image/png": "[encoded data removed]",
            "text/plain": [
              "<Figure size 432x288 with 1 Axes>"
            ]
          },
          "metadata": {
            "tags": [],
            "needs_background": "light"
          }
        }
      ]
    }
  ]
}